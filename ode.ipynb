{
  "nbformat": 4,
  "nbformat_minor": 0,
  "metadata": {
    "colab": {
      "name": "ode.ipynb",
      "provenance": [],
      "collapsed_sections": []
    },
    "kernelspec": {
      "name": "python3",
      "display_name": "Python 3"
    }
  },
  "cells": [
    {
      "cell_type": "code",
      "source": [
        "from IPython.display import IFrame"
      ],
      "metadata": {
        "id": "EQ0Fju-kPas4"
      },
      "execution_count": null,
      "outputs": []
    },
    {
      "cell_type": "markdown",
      "metadata": {
        "id": "E2w6jdelvI_9"
      },
      "source": [
        "# 微分方程式\n",
        "## 序\n",
        "\n",
        "[Google Colaboratory](https://colab.research.google.com/) （以下，Colaboratory）を用いて，微分方程式の概念を確認する．Colaboratory は，Googleによって提供されているプログラミング環境である．数式を含むドキュメントを記述でき，[GeoGebra](https://www.geogebra.org/)等のWebサービスを埋め込むこともできる．一般教養の講義「ネットワーク入門（火4）」でも人工知能やプログラミング言語Pythonの学習に利用している．\n",
        "\n",
        "ここでは，微分方程式を学ぶために，まずは中学校で学んだ内容を復習をする．\n",
        "\n",
        "## 方程式\n",
        "中学校では１次方程式を学んだ．方程式とは未知数$x$を含む関係式のことである．\n",
        "\n",
        "例えば，１次方程式\n",
        "\\begin{equation}\n",
        "2x-6=0\n",
        "\\end{equation}\n",
        "は未知数$x$を含む関係式である．\n",
        "\n",
        "両辺に同じ操作を加えても等式は保たれるため，以下の操作で未知数$x$を求めることができる．\n",
        "\n",
        "\\begin{align*}\n",
        "2x-6 + 6 &= 0 + 6\\\\\n",
        "2x &= 6\\\\\n",
        "\\frac{1}{2}\\cdot 2x &= \\frac{1}{2}\\cdot 6\\\\\n",
        "x &= 3\n",
        "\\end{align*}\n",
        "\n",
        "方程式を満たす未知数のことを**解**と呼ぶ．\n",
        "\n",
        "この場合，方程式$2x-6=0$を満たす解が$3$であることが得られた．\n",
        "\n",
        "## 導函数の表し方（高校数学II, III）\n",
        "函数$y$を考える．\n",
        "$y$が変数$x$の函数であることを強調したいときは$y(x)$と書く．\n",
        "\n",
        "このとき，函数 $y$ の導函数を $y'，\\,y'(x),\\,\\dfrac{dy}{dx},\\,\\dfrac{dy}{dx}(x),\\,\\dfrac{d}{dx}y,\\,\\dfrac{d}{dx}y(x)$ などと表す．\n",
        "\n",
        "例えば，$y=x^2$ならば，\n",
        "\\begin{equation}\n",
        "y'=2x\n",
        "\\end{equation}である．\n",
        "また，\n",
        "\\begin{equation}\n",
        "\\frac{dy}{dx}=2x\n",
        "\\end{equation}\n",
        "とも表す（数学II）．\n",
        "\n",
        "もし，$y=\\log x=\\log_{e}x$ ならば，\n",
        "\\begin{equation}\n",
        "y'=\\frac{1}{x}\n",
        "\\end{equation}\n",
        "であり，\n",
        "\\begin{equation}\n",
        "\\frac{dy}{dx}=\\frac{1}{x}\n",
        "\\end{equation}とも表す（数学III）．\n",
        "\n",
        "もし，変数$t$の関数$f(t)$が与えられたならば,導函数は$f',\\,f'(t),\\,\\dfrac{df}{dt},\\,\\dfrac{df}{dt}(t)$などのように表す．\n",
        "\n",
        "\n",
        "## ２次函数のグラフと接線の方向\n",
        "2次函数 $y=x^2$ のグラフを考える．\n",
        "グラフ上の点$A\\left(a, a^{2}\\right)$における接線の傾きは,\n",
        "導函数$\\dfrac{dy}{dx}(x)=2x$を用いて\n",
        "\\begin{equation}\n",
        "\\frac{dy}{dx}(a)=2a\n",
        "\\end{equation}で得られる．\n",
        "\n",
        "傾きが$2a$であることから，接線の方向を始点$A$を持つベクトル\n",
        "\\begin{equation}\n",
        "\\mathbf{u}=(1, 2a)\n",
        "\\end{equation}\n",
        "で表せる．\n",
        "\n",
        "一般に函数$y=f(x)$のグラフ上の点$A\\left(a, f(a)\\right)$における接線の方向はベクトル\n",
        "\\begin{align*}\n",
        "\\mathbf{u}&=\\left(1, \\dfrac{dy}{dx}(a)\\right)\\\\\n",
        "\\end{align*}で表せる．\n",
        "\n",
        "以下のGeoGebraの画面内で点$A$をマウスで動かすことで，ベクトル$\\mathbf{u}$が$A$の動きに応じて変化することを観察できる．\n"
      ]
    },
    {
      "cell_type": "code",
      "source": [
        "IFrame(src='https://www.geogebra.org/classic/cudgytzy', width=700, height=500)"
      ],
      "metadata": {
        "id": "H8NpaaM45Hw0",
        "colab": {
          "base_uri": "https://localhost:8080/",
          "height": 521
        },
        "outputId": "56a98d9f-ef95-40e8-9b65-b0c83759ab2f"
      },
      "execution_count": null,
      "outputs": [
        {
          "output_type": "execute_result",
          "data": {
            "text/html": [
              "\n",
              "        <iframe\n",
              "            width=\"700\"\n",
              "            height=\"500\"\n",
              "            src=\"https://www.geogebra.org/classic/cudgytzy\"\n",
              "            frameborder=\"0\"\n",
              "            allowfullscreen\n",
              "        ></iframe>\n",
              "        "
            ],
            "text/plain": [
              "<IPython.lib.display.IFrame at 0x7f30bc739a10>"
            ]
          },
          "metadata": {},
          "execution_count": 3
        }
      ]
    },
    {
      "cell_type": "markdown",
      "source": [
        "## 指数函数\n",
        "$e=2.71828\\cdots$はネイピア数と呼ばれる無理数の定数である．\n",
        "\n",
        "底が$e$の指数函数$y=e^{x}$の導函数は，\n",
        "\\begin{equation}\n",
        "\\frac{dy}{dx} = e^{x}\\\\\n",
        "\\end{equation}\n",
        "なので，関係式\n",
        "\\begin{equation}\n",
        "\\frac{dy}{dx}-y=0\n",
        "\\end{equation}\n",
        "をみたす．\n",
        "\n",
        "## 微分方程式\n",
        "\n",
        "ここで，未知の函数$y$と導函数$\\dfrac{dy}{dx}$を含む方程式\n",
        "\\begin{align}\n",
        "\\dfrac{dy}{dx}-y=0\n",
        "\\end{align}\n",
        "を考える．\n",
        "\n",
        "このように導函数$\\dfrac{dy}{dx}$を含む方程式を**微分方程式**と呼ぶ．\n",
        "\n",
        "上記のことから，函数$y=e^{x}$は，この微分方程式を満たす函数の１つであることがわかる．\n",
        "\n",
        "このとき，**\"函数$y=e^{x}$は微分方程式$\\dfrac{dy}{dx}-y=0$の解である．\"**と言う．\n",
        "\n",
        "$\\color{blue}{\\textbf{微分方程式の解とは，数ではなく函数を指していることに注意する．}}$\n",
        "\n",
        "実は，微分方程式$\\dfrac{dy}{dx}-y=0$の解は他にも多数存在し，一般に$y=Ce^{x}$と書ける．ここで$C$は任意定数と呼ばれ，どのような定数を代入しても微分方程式$\\dfrac{dy}{dx}-y=0$を満たす．つまり，$y=e^{x}$も$y=2e^{x}$も$y=-e^{x}$もすべて方程式$\\dfrac{dy}{dx}-y=0$を満たす．無数にある函数を任意定数$C$を用いて$y=Ce^{x}$で表している．\n",
        "\n",
        "ネイピア数$e$は，生物資源科学における必須の道具である統計学や微分方程式を学ぶ上で重要な役割を果たす．特に学科を問わず，統計学は欠かせない．\n",
        "\n",
        "また，微分方程式は\n",
        "* 植物の成長モデルの解析\n",
        "* 化学反応速度論\n",
        "* 物理化学\n",
        "* 生物の生存競争\n",
        "* 疫学，伝染病感染者数の予測\n",
        "* 気象予報\n",
        "* 木材物理学\n",
        "* 調理科学\n",
        "* 魚の漁獲高の予測\n",
        "* 水理学\n",
        "* 土木工学\n",
        "* 農業農村工学\n",
        "* 環境汚染の分析\n",
        "* 経済学\n",
        "* 消費行動の分析\n",
        "\n",
        "などを学ぶ際に必要となる．\n"
      ],
      "metadata": {
        "id": "P1dFkqiU5GdN"
      }
    },
    {
      "cell_type": "markdown",
      "source": [
        "## 微分方程式の意味．\n",
        "\n",
        "微分方程式\n",
        "\\begin{align*}\n",
        "\\frac{dy}{dx}-y=0\n",
        "\\end{align*}\n",
        "を例に，微分方程式の持つ意味を考える．\n",
        "\n",
        "この式の両辺に$y$を足すことで，\n",
        "\\begin{align*}\n",
        "\\frac{dy}{dx}=y\n",
        "\\end{align*}\n",
        "が得られる．$xy$平面内の微分方程式をみたす函数$y$のグラフを考える．グラフ上の点$A(a, y(a))$における接線の傾きが$\\dfrac{dy}{dx}(a)=y(a)$であることがわかる．すなわち，接線の方向はベクトル${\\mathbf u}=(1, y(a))$で表される．\n",
        "\n",
        "以下のGeoGebraの画面内で点$A$をマウスで動かすことで，ベクトル${\\mathbf u}$が$y$の値に応じて変化することを観察する．"
      ],
      "metadata": {
        "id": "jE3taFsQpFGI"
      }
    },
    {
      "cell_type": "code",
      "metadata": {
        "id": "wcOyw0ib2PY9",
        "colab": {
          "base_uri": "https://localhost:8080/",
          "height": 521
        },
        "outputId": "81e45587-8d3a-4ea3-c2cc-e202a11380df"
      },
      "source": [
        "IFrame(src='https://www.geogebra.org/classic/cmnbdac6', width=700, height=500)"
      ],
      "execution_count": null,
      "outputs": [
        {
          "output_type": "execute_result",
          "data": {
            "text/html": [
              "\n",
              "        <iframe\n",
              "            width=\"700\"\n",
              "            height=\"500\"\n",
              "            src=\"https://www.geogebra.org/classic/cmnbdac6\"\n",
              "            frameborder=\"0\"\n",
              "            allowfullscreen\n",
              "        ></iframe>\n",
              "        "
            ],
            "text/plain": [
              "<IPython.lib.display.IFrame at 0x7f30bc6c43d0>"
            ]
          },
          "metadata": {},
          "execution_count": 4
        }
      ]
    },
    {
      "cell_type": "markdown",
      "source": [
        "以下の図は，適当な格子点を取り，各点でのベクトルの方向だけを青色で描いたものである．このようなベクトルの集まりのことを**ベクトル場(vector field, slope field)**と呼ぶ．実際には任意の各点でベクトルが定まるのであるが，すべて描くと人間には判別できなくなるので，格子点の情報だけを可視化している．\n",
        "\n",
        "以下のGeoGebraの画面内で点$A$を動かしたときのベクトル$\\mathbf{u}$の方向とベクトル場の方向が一致していることを観察する．"
      ],
      "metadata": {
        "id": "86pleEIVy67h"
      }
    },
    {
      "cell_type": "code",
      "source": [
        "IFrame(src='https://www.geogebra.org/classic/ygw9tgxr', width=700, height=500)"
      ],
      "metadata": {
        "id": "p81uRB__0Vuq",
        "colab": {
          "base_uri": "https://localhost:8080/",
          "height": 521
        },
        "outputId": "afde232a-9a0a-4a2e-8c0d-b0bcf4292e28"
      },
      "execution_count": null,
      "outputs": [
        {
          "output_type": "execute_result",
          "data": {
            "text/html": [
              "\n",
              "        <iframe\n",
              "            width=\"700\"\n",
              "            height=\"500\"\n",
              "            src=\"https://www.geogebra.org/classic/ygw9tgxr\"\n",
              "            frameborder=\"0\"\n",
              "            allowfullscreen\n",
              "        ></iframe>\n",
              "        "
            ],
            "text/plain": [
              "<IPython.lib.display.IFrame at 0x7f30bc7308d0>"
            ]
          },
          "metadata": {},
          "execution_count": 5
        }
      ]
    },
    {
      "cell_type": "markdown",
      "source": [
        "では，微分方程式$\\dfrac{dy}{dx}-y=0$の解である函数$y$のグラフはどのように描かれるのだろうか．\n",
        "\n",
        "この微分方程式の一般解と呼ばれる解は,任意定数$C$を用いて\n",
        "\\begin{equation}\n",
        "y=Ce^{x}\n",
        "\\end{equation}\n",
        "と書ける．\n",
        "\n",
        "以下のGeoGebraの画面内で点$A$を始点とする曲線が一般解$y=Ce^{x}$のグラフである．"
      ],
      "metadata": {
        "id": "VhMTIGYM10R9"
      }
    },
    {
      "cell_type": "code",
      "source": [
        "IFrame(src='https://www.geogebra.org/classic/p7fhyfrm', width=700, height=500)"
      ],
      "metadata": {
        "id": "yokH5HoI1h8J",
        "colab": {
          "base_uri": "https://localhost:8080/",
          "height": 521
        },
        "outputId": "f12eab94-6293-4087-bd2b-bf907c324a35"
      },
      "execution_count": null,
      "outputs": [
        {
          "output_type": "execute_result",
          "data": {
            "text/html": [
              "\n",
              "        <iframe\n",
              "            width=\"700\"\n",
              "            height=\"500\"\n",
              "            src=\"https://www.geogebra.org/classic/p7fhyfrm\"\n",
              "            frameborder=\"0\"\n",
              "            allowfullscreen\n",
              "        ></iframe>\n",
              "        "
            ],
            "text/plain": [
              "<IPython.lib.display.IFrame at 0x7f30bc71cdd0>"
            ]
          },
          "metadata": {},
          "execution_count": 6
        }
      ]
    },
    {
      "cell_type": "markdown",
      "source": [
        "この曲線を微分方程式に関するベクトル場の**解曲線**, **積分曲線**と呼ぶ．\n",
        "物理学や流体のベクトル場においては**流線**と呼ばれることもある．\n",
        "\n",
        "流線の名の通り，流れのある水面上を流れていく木の葉の動きを表しているし，化学反応の様子や，感染症の増加傾向を表していると考えることができる．"
      ],
      "metadata": {
        "id": "rBDzV33U83kK"
      }
    },
    {
      "cell_type": "markdown",
      "source": [
        "# 微分方程式の解析的解法\n",
        "\n",
        "## 変数分離型の微分方程式\n",
        "\n",
        "微分方程式\n",
        "\\begin{equation}\n",
        "\\frac{dy}{dx} = y\n",
        "\\end{equation}\n",
        "を解析的に解く．\n",
        "\n",
        "この微分方程式は**変数分離型**と呼ばれており，数学IIIの範囲の不定積分を用いて解析的に解くことができる．\n",
        "\n",
        "1. 与えられた微分方程式$\\dfrac{dy}{dx}=y$に対し，$y$の項が左辺に，$x$の項が右辺になるように変形する．\n",
        "この場合，$y$の項だけに注目すれば良いので,両辺に$\\dfrac{1}{y}$を掛ける．\n",
        "\n",
        "\\begin{align*}\n",
        "\\frac{1}{y}\\frac{dy}{dx} &= \\frac{1}{y}y\\\\\n",
        "&= 1\n",
        "\\end{align*}\n",
        "\n",
        "2. 与えられた微分方程式に対して，両辺を$x$で不定積分する．\n",
        "\n",
        "\\begin{equation}\n",
        "\\int \\frac{1}{y}\\frac{dy}{dx} dx = \\int 1 dx\n",
        "\\end{equation}\n",
        "\n",
        "3. 左辺は置換積分の公式（数学III）を用いる．(形式的には$dx$が約分されると考えても良い）\n",
        "\n",
        "\\begin{equation}\n",
        "\\int \\frac{1}{y}dy = \\int 1 dx\n",
        "\\end{equation}\n",
        "\n",
        "4. 導函数の公式　$(\\log |y|)' = \\dfrac{1}{y}$ (数学III），$(x)'=1$（数学II）より原始函数を求めて，\n",
        "\\begin{equation}\n",
        "\\log |y| = x+C'\n",
        "\\end{equation}\n",
        "となる．$C'$は積分定数である．\n",
        "\n",
        "5. 対数函数の定義より\n",
        "\n",
        "\\begin{equation}\n",
        "|y| = e^{x+C'}\n",
        "\\end{equation}\n",
        "\n",
        "6. 指数法則より\n",
        "\n",
        "\\begin{equation}\n",
        "|y| = e^{C'} e^{x}\n",
        "\\end{equation}\n",
        "\n",
        "7. 絶対値を外して\n",
        "\n",
        "\\begin{equation}\n",
        "y = \\pm e^{C'} e^{x}\n",
        "\\end{equation}\n",
        "\n",
        "8. $C=\\pm e^{C'}$と置くと，指数函数の性質から $C\\ne0$ であることがわかり，\n",
        "\\begin{equation}\n",
        "y = C e^{x}  \\quad(C\\ne 0)\n",
        "\\end{equation}\n",
        "が得られる． \n",
        "\n",
        "9. $C=0$ のとき，すなわち定数函数$y=0$もまた，微分方程式$\\dfrac{dy}{dx}=y$を満たす．\n",
        "\n",
        "10. したがって，任意の定数$C$に対し，$y=Ce^{x}$は解となることがわかる．\n",
        "\n",
        "$C$は**任意定数**と呼ばれる．どんな実数$C$を代入しても，\n",
        "函数 $y=Ce^{x}$ は微分方程式 $\\dfrac{dy}{dx}=y$ を満たすので，\n",
        "\n",
        "$y=Ce^{x}$を微分方程式 $\\dfrac{dy}{dx}$ の**一般解**と呼ぶ．\n",
        "\n",
        "初期条件$y(0)=2$を満たす解を調べる． $x=0, y=2$ を一般解の式に代入すると\n",
        "$2 = Ce^{0}$ ですが, $e^{0}=1$なので，$C=2$であることがわかる．\n",
        "\n",
        "したがって，初期条件$y(0)=2$を満たす解は$y=2e^{x}$であることがわかる．\n",
        "函数$y=2e^{x}$を「初期条件$y(0)=2$を満たす**特殊解**」と呼ぶ．\n",
        "\n",
        "ここでは，最も簡単な微分方程式の例として変数分離型の微分方程式の数学的解法について紹介したが，他にも同次形，１階線形などの微分方程式が生物資源科学においても必要とされる．\n",
        "\n",
        "以下のGeoGebraの画面内でスライダー$C$の値を変更すると，函数$y=Ce^{x}$のグラフが変化する．\n",
        "\n",
        "$C=2$のとき，$y(0)=2$であることを確認できる．"
      ],
      "metadata": {
        "id": "sVKzv96uVbv6"
      }
    },
    {
      "cell_type": "code",
      "source": [
        "IFrame(src='https://www.geogebra.org/classic/byu77rwg', width=700, height=500)"
      ],
      "metadata": {
        "id": "ioX1ddZEWjJp",
        "colab": {
          "base_uri": "https://localhost:8080/",
          "height": 521
        },
        "outputId": "2a1e1734-a8b0-4214-dc04-33465582be46"
      },
      "execution_count": null,
      "outputs": [
        {
          "output_type": "execute_result",
          "data": {
            "text/html": [
              "\n",
              "        <iframe\n",
              "            width=\"700\"\n",
              "            height=\"500\"\n",
              "            src=\"https://www.geogebra.org/classic/byu77rwg\"\n",
              "            frameborder=\"0\"\n",
              "            allowfullscreen\n",
              "        ></iframe>\n",
              "        "
            ],
            "text/plain": [
              "<IPython.lib.display.IFrame at 0x7f30bc71c450>"
            ]
          },
          "metadata": {},
          "execution_count": 7
        }
      ]
    }
  ]
}